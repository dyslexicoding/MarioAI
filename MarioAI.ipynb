{
 "cells": [
  {
   "cell_type": "markdown",
   "metadata": {},
   "source": [
    "1. Setup MarioAI"
   ]
  },
  {
   "cell_type": "code",
   "execution_count": 12,
   "metadata": {},
   "outputs": [],
   "source": [
    "# !pip install gym_super_mario_bros nes-py"
   ]
  },
  {
   "cell_type": "code",
   "execution_count": 2,
   "metadata": {},
   "outputs": [],
   "source": [
    "# import the Joypad wrapper\n",
    "from nes_py.wrappers import JoypadSpace\n",
    "#import the game \n",
    "import gym_super_mario_bros\n",
    "\n",
    "# import the symplified controls\n",
    "from gym_super_mario_bros.actions import SIMPLE_MOVEMENT\n",
    "\n",
    "# import numpy as np\n"
   ]
  },
  {
   "cell_type": "code",
   "execution_count": 14,
   "metadata": {},
   "outputs": [
    {
     "data": {
      "text/plain": [
       "[['NOOP'],\n",
       " ['right'],\n",
       " ['right', 'A'],\n",
       " ['right', 'B'],\n",
       " ['right', 'A', 'B'],\n",
       " ['A'],\n",
       " ['left']]"
      ]
     },
     "execution_count": 14,
     "metadata": {},
     "output_type": "execute_result"
    }
   ],
   "source": [
    "SIMPLE_MOVEMENT\n"
   ]
  },
  {
   "cell_type": "markdown",
   "metadata": {},
   "source": [
    "7 action the AI can make."
   ]
  },
  {
   "cell_type": "code",
   "execution_count": 31,
   "metadata": {},
   "outputs": [
    {
     "name": "stderr",
     "output_type": "stream",
     "text": [
      "c:\\Users\\sami\\anaconda3\\lib\\site-packages\\gym\\envs\\registration.py:627: UserWarning: \u001b[33mWARN: The environment creator metadata doesn't include `render_modes`, contains: ['render.modes', 'video.frames_per_second']\u001b[0m\n",
      "  logger.warn(\n"
     ]
    }
   ],
   "source": [
    "# Setup game\n",
    "env = gym_super_mario_bros.make(\n",
    "    'SuperMarioBros-v0', apply_api_compatibility=True, render_mode=\"human\")\n",
    "env = JoypadSpace(env, SIMPLE_MOVEMENT)\n"
   ]
  },
  {
   "cell_type": "code",
   "execution_count": 32,
   "metadata": {},
   "outputs": [
    {
     "name": "stderr",
     "output_type": "stream",
     "text": [
      "c:\\Users\\sami\\anaconda3\\lib\\site-packages\\gym_super_mario_bros\\smb_env.py:148: RuntimeWarning: overflow encountered in scalar subtract\n",
      "  return (self.ram[0x86] - self.ram[0x071c]) % 256\n"
     ]
    }
   ],
   "source": [
    "# Create a flag - restart or not\n",
    "done = True\n",
    "# loop through each frame in game\n",
    "for step in range (5000):\n",
    "    if done:\n",
    "        # start the game\n",
    "        env.reset()\n",
    "        \n",
    "    # does random actions\n",
    "    state, reward, done, truncated, info = env.step(env.action_space.sample())\n",
    "    # render the game / show the game\n",
    "    env.render()\n",
    "#close the game\n",
    "env.close()"
   ]
  },
  {
   "cell_type": "markdown",
   "metadata": {},
   "source": [
    "\n",
    "bounding frame of the game 240x256 pixels\n",
    "\n"
   ]
  },
  {
   "cell_type": "markdown",
   "metadata": {},
   "source": [
    " info returned from game environment\n",
    "env.step(1)[4]\n",
    "\n",
    "{'coins': 0,\n",
    " 'flag_get': False,\n",
    " 'life': 2,\n",
    " 'score': 0,\n",
    " 'stage': 1,\n",
    " 'status': 'small',\n",
    " 'time': 400,\n",
    " 'world': 1,\n",
    " 'x_pos': 40,\n",
    " 'x_pos_screen': 40,\n",
    " 'y_pos': 79}\n"
   ]
  },
  {
   "cell_type": "markdown",
   "metadata": {},
   "source": [
    "2. Preprocess the Environment"
   ]
  },
  {
   "cell_type": "code",
   "execution_count": 2,
   "metadata": {},
   "outputs": [],
   "source": [
    "# !pip install stable_baselines3\n",
    "\n",
    "# install pytorch\n",
    "# !pip3 install torch torchvision torchaudio --index-url https://download.pytorch.org/whl/cu121\n",
    "# !pip install stable_baselines3[extra]"
   ]
  },
  {
   "cell_type": "code",
   "execution_count": 3,
   "metadata": {},
   "outputs": [],
   "source": [
    "# Import Frame stacker Warpperr and GreyScaling Warpper to help with the training\n",
    "\n",
    "from gym.wrappers import GrayScaleObservation\n",
    "#import Vectorize warpper \n",
    "from stable_baselines3.common.vec_env import DummyVecEnv, VecFrameStack  \n",
    "\n",
    "#import Matplotlib\n",
    "from matplotlib import pyplot as plt"
   ]
  },
  {
   "cell_type": "code",
   "execution_count": 8,
   "metadata": {},
   "outputs": [],
   "source": [
    "# Create Base Environment\n",
    "# 1. Create the environment\n",
    "env = gym_super_mario_bros.make(\n",
    "    'SuperMarioBros-v0', apply_api_compatibility=True, render_mode=\"human\")\n",
    "# 2. simplifity the controls\n",
    "env = JoypadSpace(env, SIMPLE_MOVEMENT)\n",
    "# 3. apply greyscale\n",
    "env = GrayScaleObservation(env, keep_dim=True)\n",
    "# 4. Wrap inside dummy enviroment\n",
    "\n",
    "# 5. Stack frames"
   ]
  },
  {
   "cell_type": "markdown",
   "metadata": {},
   "source": [
    "Reasons for Grayscale are the redused prosseing power required to train the model.\n",
    "(240, 256, 3) -> Colour image\n",
    "(240, 256, 1) -> Grayscale image\n",
    "\n",
    "240x256x1 = 61440 pixels\n",
    "240x256x3 = 184320 pixels\n",
    "\n",
    "thus a substantial reduction in the number of pixels to process."
   ]
  },
  {
   "cell_type": "code",
   "execution_count": 9,
   "metadata": {},
   "outputs": [],
   "source": [
    "state =env.reset()\n"
   ]
  },
  {
   "cell_type": "code",
   "execution_count": 11,
   "metadata": {},
   "outputs": [
    {
     "data": {
      "text/plain": [
       "(240, 256, 1)"
      ]
     },
     "execution_count": 11,
     "metadata": {},
     "output_type": "execute_result"
    }
   ],
   "source": [
    "state[0].shape"
   ]
  },
  {
   "cell_type": "code",
   "execution_count": 10,
   "metadata": {},
   "outputs": [
    {
     "data": {
      "text/plain": [
       "<matplotlib.image.AxesImage at 0x24d17e76590>"
      ]
     },
     "execution_count": 10,
     "metadata": {},
     "output_type": "execute_result"
    },
    {
     "data": {
      "image/png": "[encoded data removed]",
      "text/plain": [
       "<Figure size 640x480 with 1 Axes>"
      ]
     },
     "metadata": {},
     "output_type": "display_data"
    }
   ],
   "source": [
    "# use matplotlib to show the game frame\n",
    "plt.imshow(state[0])"
   ]
  },
  {
   "cell_type": "markdown",
   "metadata": {},
   "source": [
    "3. Train RL Model"
   ]
  },
  {
   "cell_type": "markdown",
   "metadata": {},
   "source": [
    "4. Test RL Model"
   ]
  }
 ],
 "metadata": {
  "kernelspec": {
   "display_name": "base",
   "language": "python",
   "name": "python3"
  },
  "language_info": {
   "codemirror_mode": {
    "name": "ipython",
    "version": 3
   },
   "file_extension": ".py",
   "mimetype": "text/x-python",
   "name": "python",
   "nbconvert_exporter": "python",
   "pygments_lexer": "ipython3",
   "version": "3.10.13"
  },
  "orig_nbformat": 4
 },
 "nbformat": 4,
 "nbformat_minor": 2
}
