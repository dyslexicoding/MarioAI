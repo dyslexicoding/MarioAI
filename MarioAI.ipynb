{
 "cells": [
  {
   "cell_type": "markdown",
   "metadata": {},
   "source": [
    "1. Setup MarioAI"
   ]
  },
  {
   "cell_type": "code",
   "execution_count": 1,
   "metadata": {},
   "outputs": [
    {
     "name": "stdout",
     "output_type": "stream",
     "text": [
      "Collecting gym_super_mario_bros\n",
      "  Using cached gym_super_mario_bros-7.4.0-py3-none-any.whl (199 kB)\n",
      "Collecting nes-py\n",
      "  Using cached nes_py-8.2.1.tar.gz (77 kB)\n",
      "  Preparing metadata (setup.py): started\n",
      "  Preparing metadata (setup.py): finished with status 'done'\n",
      "Requirement already satisfied: gym>=0.17.2 in c:\\users\\sami\\anaconda3\\lib\\site-packages (from nes-py) (0.26.2)\n",
      "Requirement already satisfied: numpy>=1.18.5 in c:\\users\\sami\\anaconda3\\lib\\site-packages (from nes-py) (1.23.5)\n",
      "Requirement already satisfied: pyglet<=1.5.21,>=1.4.0 in c:\\users\\sami\\anaconda3\\lib\\site-packages (from nes-py) (1.5.21)\n",
      "Requirement already satisfied: tqdm>=4.48.2 in c:\\users\\sami\\anaconda3\\lib\\site-packages (from nes-py) (4.64.1)\n",
      "Requirement already satisfied: gym-notices>=0.0.4 in c:\\users\\sami\\anaconda3\\lib\\site-packages (from gym>=0.17.2->nes-py) (0.0.8)\n",
      "Requirement already satisfied: cloudpickle>=1.2.0 in c:\\users\\sami\\anaconda3\\lib\\site-packages (from gym>=0.17.2->nes-py) (2.0.0)\n",
      "Requirement already satisfied: colorama in c:\\users\\sami\\anaconda3\\lib\\site-packages (from tqdm>=4.48.2->nes-py) (0.4.6)\n",
      "Building wheels for collected packages: nes-py\n",
      "  Building wheel for nes-py (setup.py): started\n",
      "  Building wheel for nes-py (setup.py): finished with status 'done'\n",
      "  Created wheel for nes-py: filename=nes_py-8.2.1-cp310-cp310-win_amd64.whl size=45891 sha256=41044f0c50560b1eace579b3285fedc14e2e1d95f50ac44867649653b0adc035\n",
      "  Stored in directory: c:\\users\\sami\\appdata\\local\\pip\\cache\\wheels\\bc\\1a\\6e\\27afc1393514b773012ff8d89f77ed4fa02055aa36f39d43df\n",
      "Successfully built nes-py\n",
      "Installing collected packages: nes-py, gym_super_mario_bros\n",
      "Successfully installed gym_super_mario_bros-7.4.0 nes-py-8.2.1\n"
     ]
    }
   ],
   "source": [
    "!pip install gym_super_mario_bros nes-py\n"
   ]
  },
  {
   "cell_type": "code",
   "execution_count": null,
   "metadata": {},
   "outputs": [],
   "source": [
    "#import the game \n",
    "import gym_super_mario_bros\n",
    "# import the Joypad wrapper\n",
    "from nes_py.wrappers import JoypadSpace\n",
    "# import the symplified controls\n",
    "from gym_super_mario_bros.actions import SIMPLE_MOVEMENT\n"
   ]
  },
  {
   "cell_type": "markdown",
   "metadata": {},
   "source": [
    "2. Preprocess the Environment"
   ]
  },
  {
   "cell_type": "markdown",
   "metadata": {},
   "source": [
    "3. Train RL Model"
   ]
  },
  {
   "cell_type": "markdown",
   "metadata": {},
   "source": [
    "4. Test RL Model"
   ]
  }
 ],
 "metadata": {
  "kernelspec": {
   "display_name": "base",
   "language": "python",
   "name": "python3"
  },
  "language_info": {
   "codemirror_mode": {
    "name": "ipython",
    "version": 3
   },
   "file_extension": ".py",
   "mimetype": "text/x-python",
   "name": "python",
   "nbconvert_exporter": "python",
   "pygments_lexer": "ipython3",
   "version": "3.10.9"
  },
  "orig_nbformat": 4
 },
 "nbformat": 4,
 "nbformat_minor": 2
}
