{
 "cells": [
  {
   "cell_type": "markdown",
   "metadata": {},
   "source": [
    "1. Setup MarioAI"
   ]
  },
  {
   "cell_type": "code",
   "execution_count": 32,
   "metadata": {},
   "outputs": [
    {
     "name": "stdout",
     "output_type": "stream",
     "text": [
      "Requirement already satisfied: gym_super_mario_bros in c:\\users\\sami\\anaconda3\\lib\\site-packages (7.3.0)\n",
      "Requirement already satisfied: nes-py in c:\\users\\sami\\anaconda3\\lib\\site-packages (8.2.1)\n",
      "Requirement already satisfied: pyglet<=1.5.21,>=1.4.0 in c:\\users\\sami\\anaconda3\\lib\\site-packages (from nes-py) (1.5.21)\n",
      "Requirement already satisfied: gym>=0.17.2 in c:\\users\\sami\\anaconda3\\lib\\site-packages (from nes-py) (0.26.2)\n",
      "Requirement already satisfied: tqdm>=4.48.2 in c:\\users\\sami\\anaconda3\\lib\\site-packages (from nes-py) (4.64.1)\n",
      "Requirement already satisfied: numpy>=1.18.5 in c:\\users\\sami\\anaconda3\\lib\\site-packages (from nes-py) (1.23.5)\n",
      "Requirement already satisfied: gym-notices>=0.0.4 in c:\\users\\sami\\anaconda3\\lib\\site-packages (from gym>=0.17.2->nes-py) (0.0.8)\n",
      "Requirement already satisfied: cloudpickle>=1.2.0 in c:\\users\\sami\\anaconda3\\lib\\site-packages (from gym>=0.17.2->nes-py) (2.0.0)\n",
      "Requirement already satisfied: colorama in c:\\users\\sami\\anaconda3\\lib\\site-packages (from tqdm>=4.48.2->nes-py) (0.4.6)\n"
     ]
    }
   ],
   "source": [
    "# !pip install gym_super_mario_bros nes-py\n"
   ]
  },
  {
   "cell_type": "code",
   "execution_count": 33,
   "metadata": {},
   "outputs": [],
   "source": [
    "# import the Joypad wrapper\n",
    "from nes_py.wrappers import JoypadSpace\n",
    "#import the game \n",
    "import gym_super_mario_bros\n",
    "\n",
    "# import the symplified controls\n",
    "from gym_super_mario_bros.actions import SIMPLE_MOVEMENT\n"
   ]
  },
  {
   "cell_type": "code",
   "execution_count": 34,
   "metadata": {},
   "outputs": [
    {
     "data": {
      "text/plain": [
       "[['NOOP'],\n",
       " ['right'],\n",
       " ['right', 'A'],\n",
       " ['right', 'B'],\n",
       " ['right', 'A', 'B'],\n",
       " ['A'],\n",
       " ['left']]"
      ]
     },
     "execution_count": 34,
     "metadata": {},
     "output_type": "execute_result"
    }
   ],
   "source": [
    "SIMPLE_MOVEMENT\n"
   ]
  },
  {
   "cell_type": "markdown",
   "metadata": {},
   "source": [
    "7 action the AI can make."
   ]
  },
  {
   "cell_type": "code",
   "execution_count": 35,
   "metadata": {},
   "outputs": [
    {
     "name": "stderr",
     "output_type": "stream",
     "text": [
      "c:\\Users\\sami\\anaconda3\\lib\\site-packages\\gym\\envs\\registration.py:627: UserWarning: \u001b[33mWARN: The environment creator metadata doesn't include `render_modes`, contains: ['render.modes', 'video.frames_per_second']\u001b[0m\n",
      "  logger.warn(\n"
     ]
    }
   ],
   "source": [
    "# Setup game\n",
    "env = gym_super_mario_bros.make(\n",
    "    'SuperMarioBros-v0', apply_api_compatibility=True, render_mode=\"human\")\n",
    "env = JoypadSpace(env, SIMPLE_MOVEMENT)\n"
   ]
  },
  {
   "cell_type": "code",
   "execution_count": 37,
   "metadata": {},
   "outputs": [],
   "source": [
    "# Create a flag - restart or not\n",
    "done = True\n",
    "# loop through each frame in game\n",
    "for step in range (10000):\n",
    "    if done:\n",
    "        # start the game\n",
    "        env.reset()\n",
    "    # does random actions\n",
    "    state, reward, done, truncated, info = env.step(env.action_space.sample())\n",
    "    # render the game / show the game\n",
    "    env.render()\n",
    "#close the game\n",
    "env.close()"
   ]
  },
  {
   "cell_type": "markdown",
   "metadata": {},
   "source": [
    "2. Preprocess the Environment"
   ]
  },
  {
   "cell_type": "markdown",
   "metadata": {},
   "source": [
    "3. Train RL Model"
   ]
  },
  {
   "cell_type": "markdown",
   "metadata": {},
   "source": [
    "4. Test RL Model"
   ]
  }
 ],
 "metadata": {
  "kernelspec": {
   "display_name": "base",
   "language": "python",
   "name": "python3"
  },
  "language_info": {
   "codemirror_mode": {
    "name": "ipython",
    "version": 3
   },
   "file_extension": ".py",
   "mimetype": "text/x-python",
   "name": "python",
   "nbconvert_exporter": "python",
   "pygments_lexer": "ipython3",
   "version": "0.0.0"
  },
  "orig_nbformat": 4
 },
 "nbformat": 4,
 "nbformat_minor": 2
}
